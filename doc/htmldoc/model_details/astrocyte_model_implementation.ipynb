{
 "cells": [
  {
   "cell_type": "markdown",
   "id": "17ef5228",
   "metadata": {},
   "source": [
    "# NEST implementation of the `astrocyte` models\n",
    "\n",
    "#### Han-Jia Jiang, 2023-02-23\n",
    "\n",
    "This notebook provides a reference solution for the the _astrocyte_ model in NEST.\n",
    "\n",
    "## The problem\n",
    "\n",
    "The equations governing the evolution of the astrocyte model are\n",
    "\n",
    "$$\\left\\lbrace\\begin{array}{rcl}\n",
    "    \\frac{d[Ca^{2+}](t)}{dt} &=& J_{leak}(t) - J_{pump}(t)  + J_{channel}(t) \\\\\n",
    "    J_{leak}(t) &=& r_{ER,cyt} \\cdot r_L \\cdot \\left( [Ca^{2+}]_{ER}(t) - [Ca^{2+}](t) \\right) \\\\\n",
    "    J_{channel}(t) &=& r_{ER,cyt} \\cdot v_{IP_3R} \\cdot m_{\\infty}(t)^3 \\cdot n_{\\infty}(t)^3\\cdot h_{IP_3R}(t)^3 \\cdot \\left([Ca^{2+}]_{ER} - [Ca^{2+}](t)\\right) \\\\\n",
    "    m_{\\infty}(t) &=& \\frac{[IP_3](t)}{[IP_3](t) + K_{IP_{3,1}}} \\\\\n",
    "    n_{\\infty}(t) &=& \\frac{[Ca^{2+}](t)}{[Ca^{2+}](t) + K_{act}} \\\\    \n",
    "    [Ca^{2+}]_{ER}(t) &=& \\frac{Ca_{tot}-[Ca^{2+}](t)}{r_{ER,cyt}} \\\\\n",
    "    \\frac{dh_{IP_3}(t)}{dt} &=& \\alpha_{h_{IP_3}}(t) \\cdot (1-h_{IP_3}(t)) - \\beta_{h_{IP_3}}(t) \\cdot h_{IP_3} (t) \\\\\n",
    "    \\alpha_{h_{IP_3}}(t) &=& r_{IP_3} \\cdot K_{inh} \\cdot  \\frac{[IP_3](t) + K_{IP_3,1}}{[IP_3](t)+K_{IP_3,2}} \\\\\n",
    "    \\beta_{h_{IP_3}}(t) &=& r_{IP_3R} \\cdot [Ca^{2+}](t) \\\\\n",
    "    \\frac{d[IP_3](t)}{dt} &=& \\frac{[IP_3 ]^{*} - [IP_3](t)}{\\tau_{IP_3}} + r_{IP_3} \\cdot \\left(J^{spike}(t)\\right) \\\\\n",
    "    J^{spike}(t) &=& \\sum_{s} w_{s} \\cdot \\delta(t-t_{s}) \\\\\n",
    "\\end{array}\\right.$$\n"
   ]
  },
  {
   "cell_type": "markdown",
   "id": "622a93cb",
   "metadata": {},
   "source": [
    "## Technical details and requirements\n",
    "\n",
    "### Implementation of the functions\n",
    "\n",
    "* The reference solution is implemented through [scipy](http://www.scipy.org/).\n",
    "\n",
    "### Requirements\n",
    "\n",
    "To run this notebook, you need:\n",
    "\n",
    "* [numpy](http://www.numpy.org/) and [scipy](http://www.scipy.org/)\n"
   ]
  },
  {
   "cell_type": "code",
   "execution_count": 32,
   "id": "76d05384",
   "metadata": {},
   "outputs": [],
   "source": [
    "import numpy as np\n",
    "from scipy.integrate import odeint\n",
    "# import matplotlib.pyplot as plt\n",
    "# %matplotlib inline\n",
    "# plt.rcParams['figure.figsize'] = (15, 6)"
   ]
  },
  {
   "cell_type": "markdown",
   "id": "17cecb4d",
   "metadata": {},
   "source": [
    "## Reference solution\n",
    "### Right hand side function"
   ]
  },
  {
   "cell_type": "code",
   "execution_count": 33,
   "id": "967b18fb",
   "metadata": {},
   "outputs": [],
   "source": [
    "def rhs(y, _, p):\n",
    "    '''\n",
    "    Implementation of astrocyte dynamics\n",
    "    \n",
    "    Parameters\n",
    "    ----------\n",
    "    y : list\n",
    "        Vector containing the state variables [IP3_astro, Ca_astro, f_IP3R_astro]\n",
    "    _ : unused var\n",
    "    p : Params instance\n",
    "        Object containing the neuronal parameters.\n",
    "        \n",
    "    Returns\n",
    "    -------\n",
    "    dCa_astro : double\n",
    "        Derivative of Ca_astro\n",
    "    dIP3_astro : double\n",
    "        Derivative of IP3_astro\n",
    "    df_IP3R_astro : double\n",
    "        Derivative of f_IP3R_astro\n",
    "    '''\n",
    "    IP3_astro = y[0]\n",
    "    Ca_astro = y[1]\n",
    "    f_IP3R_astro = y[2]\n",
    "\n",
    "    alpha = p.r_IP3R_astro*p.K_inh_astro*(IP3_astro+p.K_IP3_1_astro)/(IP3_astro+p.K_IP3_2_astro)\n",
    "    beta = p.r_IP3R_astro*Ca_astro\n",
    "    Ca_ER = (p.Ca_tot_astro - Ca_astro)/p.r_ER_cyt_astro\n",
    "    m_inf = IP3_astro/(IP3_astro+p.K_IP3_1_astro)\n",
    "    n_inf = Ca_astro/(Ca_astro + p.K_act_astro)\n",
    "    J_ch = p.r_ER_cyt_astro*p.v_IP3R_astro*((m_inf*n_inf*f_IP3R_astro)**3)*(Ca_ER - Ca_astro)\n",
    "    J_pump = p.v_SERCA_astro*(Ca_astro**2)/(p.K_SERCA_astro**2 + Ca_astro**2)\n",
    "    J_leak = p.r_ER_cyt_astro*p.r_L_astro*(Ca_ER - Ca_astro)\n",
    "\n",
    "    dCa_astro = J_ch - J_pump + J_leak\n",
    "    dIP3_astro = (p.IP3_0_astro - IP3_astro)/p.tau_IP3_astro\n",
    "    df_IP3R_astro = alpha*(1-f_IP3R_astro) - beta*f_IP3R_astro\n",
    "    \n",
    "    return dIP3_astro, dCa_astro, df_IP3R_astro\n"
   ]
  },
  {
   "cell_type": "markdown",
   "id": "6f9246f9",
   "metadata": {},
   "source": [
    "### Complete model"
   ]
  },
  {
   "cell_type": "code",
   "execution_count": 34,
   "id": "6276334c",
   "metadata": {},
   "outputs": [],
   "source": [
    "def scipy_astrocyte(p, f, simtime, dt):\n",
    "    '''\n",
    "    Complete astrocyte model using scipy `odeint` solver.\n",
    "    \n",
    "    Parameters\n",
    "    ----------\n",
    "    p : Params instance\n",
    "        Object containing the astrocyte parameters.\n",
    "    f : function\n",
    "        Right-hand side function\n",
    "    simtime : double\n",
    "        Duration of the simulation (will run between\n",
    "        0 and tmax)\n",
    "    dt : double\n",
    "        Time increment.\n",
    "        \n",
    "    Returns\n",
    "    -------\n",
    "    t : list\n",
    "        Times at which the astrocyte state was evaluated.\n",
    "    y : list\n",
    "        State values associated to the times in `t`\n",
    "    fos : list\n",
    "        List of dictionaries containing additional output\n",
    "        information from `odeint`\n",
    "    '''\n",
    "    t = np.arange(0, simtime, dt)   # time axis\n",
    "    n = len(t)                 \n",
    "    y = np.zeros((n, 3))         # Ca_astro, IP3_astro, f_IP3R_astro\n",
    "    y[0, 0] = 1.0\n",
    "    y[0, 1] = 1.0\n",
    "    y[0, 2] = 1.0\n",
    "    fos = []    # full output dict from odeint()\n",
    "    \n",
    "    # update time-step by time-step\n",
    "    for k in range(1, n):\n",
    "        \n",
    "        # solve ODE from t_k-1 to t_k\n",
    "        d, fo = odeint(f, y[k-1, :], t[k-1:k+1], (p, ), full_output=True)\n",
    "        y[k, :] = d[1, :]\n",
    "        fos.append(fo)\n",
    "        \n",
    "    return t, y, fos"
   ]
  },
  {
   "cell_type": "markdown",
   "id": "246ef086",
   "metadata": {},
   "source": [
    "### Parameters"
   ]
  },
  {
   "cell_type": "code",
   "execution_count": 35,
   "id": "3fb81ba9",
   "metadata": {},
   "outputs": [],
   "source": [
    "astro_param = {\n",
    "    'Ca_tot_astro': 2.0,\n",
    "    'IP3_0_astro': 0.16,\n",
    "    'K_act_astro': 0.08234,\n",
    "    'K_inh_astro': 1.049,\n",
    "    'K_IP3_1_astro': 0.13,\n",
    "    'K_IP3_2_astro': 0.9434,\n",
    "    'K_SERCA_astro': 0.1,\n",
    "    'r_ER_cyt_astro': 0.185,\n",
    "    'r_IP3_astro': 5.0,\n",
    "    'r_IP3R_astro': 0.0002,\n",
    "    'r_L_astro': 0.00011,\n",
    "    'tau_IP3_astro': 7142.0,\n",
    "    'v_IP3R_astro': 0.006,\n",
    "    'v_SERCA_astro': 0.0009,\n",
    "}\n",
    "\n",
    "class Params:\n",
    "    '''\n",
    "    Class giving access to the astrocyte\n",
    "    parameters.\n",
    "    '''\n",
    "    def __init__(self):\n",
    "        self.params = astro_param\n",
    "        self.Ca_tot_astro = astro_param[\"Ca_tot_astro\"]\n",
    "        self.IP3_0_astro = astro_param[\"IP3_0_astro\"]\n",
    "        self.K_act_astro = astro_param[\"K_act_astro\"]\n",
    "        self.K_inh_astro = astro_param[\"K_inh_astro\"]\n",
    "        self.K_IP3_1_astro = astro_param[\"K_IP3_1_astro\"]\n",
    "        self.K_IP3_2_astro = astro_param[\"K_IP3_2_astro\"]\n",
    "        self.K_SERCA_astro = astro_param[\"K_SERCA_astro\"]\n",
    "        self.r_ER_cyt_astro = astro_param[\"r_ER_cyt_astro\"]\n",
    "        self.r_IP3_astro = astro_param[\"r_IP3_astro\"]\n",
    "        self.r_IP3R_astro = astro_param[\"r_IP3R_astro\"]\n",
    "        self.r_L_astro = astro_param[\"r_L_astro\"]\n",
    "        self.tau_IP3_astro = astro_param[\"tau_IP3_astro\"]\n",
    "        self.v_IP3R_astro = astro_param[\"v_IP3R_astro\"]\n",
    "        self.v_SERCA_astro = astro_param[\"v_SERCA_astro\"]\n",
    "    \n",
    "p = Params()"
   ]
  },
  {
   "cell_type": "markdown",
   "id": "854edc71",
   "metadata": {},
   "source": [
    "### Simulate the implementation"
   ]
  },
  {
   "cell_type": "code",
   "execution_count": 36,
   "id": "c83f56f0",
   "metadata": {},
   "outputs": [],
   "source": [
    "# Parameters of the simulation\n",
    "simtime = 100.\n",
    "resolution = 0.01\n",
    "\n",
    "t, y, fos = scipy_astrocyte(p, rhs, simtime, resolution)\n",
    "data = np.concatenate((np.array([t]).T, y), axis=1)\n",
    "\n",
    "np.savetxt(\n",
    "    'test_astrocyte.dat', data[1:, :],\n",
    "    header='Times IP3_astro Ca_astro f_IP3R_astro')\n"
   ]
  },
  {
   "cell_type": "markdown",
   "id": "df8ff655",
   "metadata": {},
   "source": [
    "-----------------------------\n",
    "### License\n",
    "\n",
    "This file is part of NEST. Copyright (C) 2004 The NEST Initiative\n",
    "\n",
    "NEST is free software: you can redistribute it and/or modify it under the terms of the GNU General Public License as published by the Free Software Foundation, either version 2 of the License, or (at your option) any later version.\n",
    "\n",
    "NEST is distributed in the hope that it will be useful, but WITHOUT ANY WARRANTY; without even the implied warranty of MERCHANTABILITY or FITNESS FOR A PARTICULAR PURPOSE. See the GNU General Public License for more details."
   ]
  }
 ],
 "metadata": {
  "kernelspec": {
   "display_name": "Python 3 (ipykernel)",
   "language": "python",
   "name": "python3"
  },
  "language_info": {
   "codemirror_mode": {
    "name": "ipython",
    "version": 3
   },
   "file_extension": ".py",
   "mimetype": "text/x-python",
   "name": "python",
   "nbconvert_exporter": "python",
   "pygments_lexer": "ipython3",
   "version": "3.10.8"
  }
 },
 "nbformat": 4,
 "nbformat_minor": 5
}
