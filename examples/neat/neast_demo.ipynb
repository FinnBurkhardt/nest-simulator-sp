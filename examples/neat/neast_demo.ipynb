{
 "cells": [
  {
   "cell_type": "code",
   "execution_count": null,
   "metadata": {},
   "outputs": [],
   "source": [
    "import nest\n",
    "import neat\n",
    "\n",
    "import matplotlib.pyplot as pl\n",
    "\n",
    "from datarep import paths"
   ]
  },
  {
   "cell_type": "code",
   "execution_count": null,
   "metadata": {},
   "outputs": [],
   "source": [
    "nest.ResetKernel()\n",
    "nest.SetKernelStatus(dict(resolution=.1))"
   ]
  },
  {
   "cell_type": "code",
   "execution_count": null,
   "metadata": {},
   "outputs": [],
   "source": [
    "# input spike train\n",
    "spike_train = [50., 55., 70., 78.]"
   ]
  },
  {
   "cell_type": "code",
   "execution_count": null,
   "metadata": {},
   "outputs": [],
   "source": [
    "# define cell with physiological parameters\n",
    "phys_tree = neat.PhysTree(paths.morph_path + 'N19ttwt.CNG.swc')\n",
    "\n",
    "phys_tree.setPhysiology(1., 100./1e6)\n",
    "phys_tree.fitLeakCurrent(-70., 10.)\n",
    "phys_tree.setCompTree()\n",
    "\n",
    "print(phys_tree)"
   ]
  },
  {
   "cell_type": "code",
   "execution_count": null,
   "metadata": {},
   "outputs": [],
   "source": [
    "# define locations where to fit compartment parameters\n",
    "locs = [(1,.5), (122, 1.)]"
   ]
  },
  {
   "cell_type": "code",
   "execution_count": null,
   "metadata": {},
   "outputs": [],
   "source": [
    "# plot the morphology and the compartment locations\n",
    "pl.figure()\n",
    "phys_tree.plot2DMorphology(pl.gca(), marklocs=locs, locargs=dict(marker='o', mfc='y', mec='r'), draw_soma_circle=False)"
   ]
  },
  {
   "cell_type": "code",
   "execution_count": null,
   "metadata": {},
   "outputs": [],
   "source": [
    "# create neat.CompartmentFitter"
   ]
  },
  {
   "cell_type": "code",
   "execution_count": null,
   "metadata": {},
   "outputs": [],
   "source": [
    "# simplify the model"
   ]
  },
  {
   "cell_type": "code",
   "execution_count": null,
   "metadata": {},
   "outputs": [],
   "source": [
    "# print the simplified model"
   ]
  },
  {
   "cell_type": "code",
   "execution_count": null,
   "metadata": {},
   "outputs": [],
   "source": [
    "# create simplified NEST and NEURON models\n",
    "from neatmodel import createReducedNestModel\n",
    "#...\n",
    "\n",
    "from neat import createReducedNeuronModel\n",
    "#..."
   ]
  },
  {
   "cell_type": "code",
   "execution_count": null,
   "metadata": {},
   "outputs": [],
   "source": [
    "# run the reduced neuron model\n",
    "clocs = ctree.getEquivalentLocs()\n",
    "n_neuron.initModel(dt=.1, t_calibrate=100.)\n",
    "\n",
    "n_neuron.storeLocs(clocs, name='rec locs')\n",
    "n_neuron.addDoubleExpSynapse(clocs[1], .2, 3., 0.)\n",
    "n_neuron.setSpikeTrain(0, 0.001, spike_train)\n",
    "res = n_neuron.run(150.)"
   ]
  },
  {
   "cell_type": "code",
   "execution_count": null,
   "metadata": {},
   "outputs": [],
   "source": [
    "# run the reduced nest model\n",
    "sg = nest.Create('spike_generator', 1, {'spike_times': spike_train})\n",
    "syn_idx_AMPA = nest.AddReceptor(n_nest, 1, \"AMPA\")\n",
    "nest.Connect(sg, n_nest, syn_spec={\n",
    "    'synapse_model': 'static_synapse', 'weight': .001, 'delay': 0.2, 'receptor_type': syn_idx_AMPA})\n",
    "\n",
    "m_neat = nest.Create('multimeter', 1, {'record_from': ['V_m_0', 'V_m_1'], 'interval': .1})\n",
    "nest.Connect(m_neat, n_nest)\n",
    "\n",
    "nest.Simulate(150.)\n",
    "events_neat = nest.GetStatus(m_neat, 'events')[0]"
   ]
  },
  {
   "cell_type": "code",
   "execution_count": null,
   "metadata": {},
   "outputs": [],
   "source": [
    "# plot the result\n",
    "pl.plot(res['t'], res['v_m'][0], c='DarkGrey', label='V_NEURON_0')\n",
    "pl.plot(res['t'], res['v_m'][1], c='DarkGrey', label='V_NEURON_1')\n",
    "pl.plot(events_neat['times'], events_neat['V_m_0'], 'b--', label='V_NEST_0')\n",
    "pl.plot(events_neat['times'], events_neat['V_m_1'], 'r--', label='V_NEST_1')\n",
    "pl.legend()\n",
    "\n",
    "pl.show()"
   ]
  },
  {
   "cell_type": "code",
   "execution_count": null,
   "metadata": {},
   "outputs": [],
   "source": []
  }
 ],
 "metadata": {
  "kernelspec": {
   "display_name": "Python 3",
   "language": "python",
   "name": "python3"
  },
  "language_info": {
   "codemirror_mode": {
    "name": "ipython",
    "version": 3
   },
   "file_extension": ".py",
   "mimetype": "text/x-python",
   "name": "python",
   "nbconvert_exporter": "python",
   "pygments_lexer": "ipython3",
   "version": "3.7.6"
  }
 },
 "nbformat": 4,
 "nbformat_minor": 4
}
